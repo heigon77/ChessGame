{
<<<<<<< HEAD
=======
  "nbformat": 4,
  "nbformat_minor": 0,
  "metadata": {
    "colab": {
      "name": "ChessGameML",
      "provenance": [],
      "collapsed_sections": [
        "ThVie8uoeiPv",
        "gv-Y2Zbte5rf"
      ],
      "mount_file_id": "1HUSM9pWeciW9XLcO8cJIy2AdqG3m2zoi",
      "authorship_tag": "ABX9TyPbUJMEMsth0O5aom9MqDcy",
      "include_colab_link": true
    },
    "kernelspec": {
      "name": "python3",
      "display_name": "Python 3"
    },
    "language_info": {
      "name": "python"
    }
  },
>>>>>>> bd6f5d1dd26a9510e4b29750104833a24cd12afe
  "cells": [
    {
      "cell_type": "markdown",
      "metadata": {
        "colab_type": "text",
        "id": "view-in-github"
      },
      "source": [
        "<a href=\"https://colab.research.google.com/github/heigon77/ChessGame/blob/master/ChessGameML.ipynb\" target=\"_parent\"><img src=\"https://colab.research.google.com/assets/colab-badge.svg\" alt=\"Open In Colab\"/></a>"
      ]
    },
    {
      "cell_type": "markdown",
      "source": [
        "# Setup\n"
      ],
      "metadata": {
        "id": "4XmnCsXtihEK"
      }
    },
    {
      "cell_type": "code",
<<<<<<< HEAD
      "execution_count": 3,
=======
      "source": [
        "!pip uninstall python-chess\n",
        "!pip install chess\n",
        "!pip install chess.com"
      ],
>>>>>>> bd6f5d1dd26a9510e4b29750104833a24cd12afe
      "metadata": {
        "colab": {
          "base_uri": "https://localhost:8080/"
        },
        "id": "9jromxSWg4d_",
        "outputId": "d099672a-8a9c-4db6-fcc1-166da160ffaf"
      },
<<<<<<< HEAD
      "outputs": [
        {
          "ename": "NameError",
          "evalue": "ignored",
          "output_type": "error",
          "traceback": [
            "\u001b[0;31m---------------------------------------------------------------------------\u001b[0m",
            "\u001b[0;31mNameError\u001b[0m                                 Traceback (most recent call last)",
            "\u001b[0;32m<ipython-input-3-1c68ea370b40>\u001b[0m in \u001b[0;36m<module>\u001b[0;34m\u001b[0m\n\u001b[0;32m----> 1\u001b[0;31m \u001b[0mTest\u001b[0m\u001b[0;34m\u001b[0m\u001b[0;34m\u001b[0m\u001b[0m\n\u001b[0m",
            "\u001b[0;31mNameError\u001b[0m: name 'Test' is not defined"
=======
      "execution_count": null,
      "outputs": [
        {
          "output_type": "stream",
          "name": "stdout",
          "text": [
            "\u001b[33mWARNING: Skipping python-chess as it is not installed.\u001b[0m\n",
            "Looking in indexes: https://pypi.org/simple, https://us-python.pkg.dev/colab-wheels/public/simple/\n",
            "Requirement already satisfied: chess in /usr/local/lib/python3.7/dist-packages (1.9.2)\n",
            "Looking in indexes: https://pypi.org/simple, https://us-python.pkg.dev/colab-wheels/public/simple/\n",
            "Collecting chess.com\n",
            "  Downloading chess.com-1.7.8-py3-none-any.whl (10 kB)\n",
            "Requirement already satisfied: aiohttp==3.8.1 in /usr/local/lib/python3.7/dist-packages (from chess.com) (3.8.1)\n",
            "Requirement already satisfied: multidict<7.0,>=4.5 in /usr/local/lib/python3.7/dist-packages (from aiohttp==3.8.1->chess.com) (6.0.2)\n",
            "Requirement already satisfied: asynctest==0.13.0 in /usr/local/lib/python3.7/dist-packages (from aiohttp==3.8.1->chess.com) (0.13.0)\n",
            "Requirement already satisfied: frozenlist>=1.1.1 in /usr/local/lib/python3.7/dist-packages (from aiohttp==3.8.1->chess.com) (1.3.1)\n",
            "Requirement already satisfied: async-timeout<5.0,>=4.0.0a3 in /usr/local/lib/python3.7/dist-packages (from aiohttp==3.8.1->chess.com) (4.0.2)\n",
            "Requirement already satisfied: charset-normalizer<3.0,>=2.0 in /usr/local/lib/python3.7/dist-packages (from aiohttp==3.8.1->chess.com) (2.1.0)\n",
            "Requirement already satisfied: typing-extensions>=3.7.4 in /usr/local/lib/python3.7/dist-packages (from aiohttp==3.8.1->chess.com) (4.1.1)\n",
            "Requirement already satisfied: aiosignal>=1.1.2 in /usr/local/lib/python3.7/dist-packages (from aiohttp==3.8.1->chess.com) (1.2.0)\n",
            "Requirement already satisfied: yarl<2.0,>=1.0 in /usr/local/lib/python3.7/dist-packages (from aiohttp==3.8.1->chess.com) (1.8.1)\n",
            "Requirement already satisfied: attrs>=17.3.0 in /usr/local/lib/python3.7/dist-packages (from aiohttp==3.8.1->chess.com) (22.1.0)\n",
            "Requirement already satisfied: idna>=2.0 in /usr/local/lib/python3.7/dist-packages (from yarl<2.0,>=1.0->aiohttp==3.8.1->chess.com) (2.10)\n",
            "Installing collected packages: chess.com\n",
            "Successfully installed chess.com-1.7.8\n"
          ]
        }
      ]
    },
    {
      "cell_type": "code",
      "source": [
        "import chess as ch\n",
        "import chessdotcom as chcom\n",
        "import random as rd"
      ],
      "metadata": {
        "id": "6nFD8cbVezgT"
      },
      "execution_count": null,
      "outputs": []
    },
    {
      "cell_type": "markdown",
      "source": [
        "# DumbChessEngine\n"
      ],
      "metadata": {
        "id": "ThVie8uoeiPv"
      }
    },
    {
      "cell_type": "code",
      "source": [
        "class DumbChessEngine:\n",
        "\n",
        "    def __init__(self):\n",
        "        pass\n",
        "\n",
        "    def choose_move(self, board: ch.Board(), color=None):\n",
        "        \"\"\"\n",
        "        Choose any random move\n",
        "        :param color:\n",
        "        :param board:\n",
        "        :return:\n",
        "        \"\"\"\n",
        "        moves = list(board.legal_moves)\n",
        "        return rd.choice(moves)\n"
      ],
      "metadata": {
        "id": "moc1bBpleonO"
      },
      "execution_count": null,
      "outputs": []
    },
    {
      "cell_type": "markdown",
      "source": [
        "# MiniMaxEngineClassical\n"
      ],
      "metadata": {
        "id": "gv-Y2Zbte5rf"
      }
    },
    {
      "cell_type": "code",
      "source": [
        "class MiniMaxClassical:\n",
        "\n",
        "    def __init__(self):\n",
        "        self.depth_lim = 3\n",
        "        self.MAX = 1000\n",
        "        self.MIN = -1000\n",
        "        self.castled = False\n",
        "\n",
        "    def choose_move(self, board: ch.Board(), color):\n",
        "        \"\"\"\n",
        "        Choose any random move\n",
        "        :param color:\n",
        "        :param board:\n",
        "        :return:\n",
        "        \"\"\"\n",
        "        if color == ch.WHITE:\n",
        "            max_player = True\n",
        "        else:\n",
        "            max_player = False\n",
        "\n",
        "        move = self.minimax(0, board, max_player, self.MIN, self.MAX)\n",
        "        if board.is_castling(move[1]):\n",
        "            self.castled = True\n",
        "\n",
        "        print(\"Escolhido: \", self.evaluation(board), move[1])\n",
        "\n",
        "        return move[1]\n",
        "\n",
        "    # Returns optimal value for current player\n",
        "    # (Initially called for root and maximizer)\n",
        "    def minimax(self, depth, board, maximizing_player, alpha, beta):\n",
        "\n",
        "        moves = list(board.legal_moves)\n",
        "\n",
        "        # Terminating condition. i.e.\n",
        "        # leaf node is reached\n",
        "        # print(self.evaluation(board), maximizing_player, depth)\n",
        "        if depth == self.depth_lim or len(moves) == 0:\n",
        "            return self.evaluation(board), None\n",
        "\n",
        "        if maximizing_player:\n",
        "\n",
        "            best = self.MIN\n",
        "            best_move = rd.choice(moves)\n",
        "\n",
        "            # Recur for left and right children\n",
        "            for i in moves:\n",
        "                new_board = board.copy()\n",
        "                new_board.push(i)\n",
        "                val = self.minimax(depth + 1, new_board, False, alpha, beta)[0]\n",
        "\n",
        "                if val > best:\n",
        "                    best = val\n",
        "                    best_move = i\n",
        "\n",
        "                alpha = max(alpha, best)\n",
        "\n",
        "                # Alpha Beta Pruning\n",
        "                if beta <= alpha:\n",
        "                    break\n",
        "\n",
        "            return best, best_move\n",
        "\n",
        "        else:\n",
        "            best = self.MAX\n",
        "            best_move = rd.choice(moves)\n",
        "\n",
        "            # Recur for left and\n",
        "            # right children\n",
        "            for i in moves:\n",
        "                new_board = board.copy()\n",
        "                new_board.push(i)\n",
        "                val = self.minimax(depth + 1, new_board, True, alpha, beta)[0]\n",
        "\n",
        "                if val < best:\n",
        "                    best = val\n",
        "                    best_move = i\n",
        "\n",
        "                beta = min(beta, best)\n",
        "\n",
        "                # Alpha Beta Pruning\n",
        "                if beta <= alpha:\n",
        "                    break\n",
        "\n",
        "            return best, best_move\n",
        "\n",
        "    def evaluation(self, board):\n",
        "        value = 0\n",
        "\n",
        "        value += self.game_finished_value(board)\n",
        "        value += 9 * (self.count_pieces(board, ch.QUEEN, ch.WHITE) - self.count_pieces(board, ch.QUEEN, ch.BLACK))\n",
        "        value += 5 * (self.count_pieces(board, ch.ROOK, ch.WHITE) - self.count_pieces(board, ch.ROOK, ch.BLACK))\n",
        "        value += 3 * (self.count_pieces(board, ch.BISHOP, ch.WHITE) - self.count_pieces(board, ch.BISHOP, ch.BLACK))\n",
        "        value += 3 * (self.count_pieces(board, ch.KNIGHT, ch.WHITE) - self.count_pieces(board, ch.KNIGHT, ch.BLACK))\n",
        "        value += 1 * (self.count_pieces(board, ch.PAWN, ch.WHITE) - self.count_pieces(board, ch.PAWN, ch.BLACK))\n",
        "\n",
        "        # 27 28 35 36\n",
        "        white_attk = 0\n",
        "        black_attk = 0\n",
        "        for i in range(64):\n",
        "            if i == 27 or 28 or 35 or 36:\n",
        "                if board.is_attacked_by(ch.WHITE, i):\n",
        "                    white_attk += 0.05\n",
        "                if board.is_attacked_by(ch.BLACK, i):\n",
        "                    black_attk += 0.05\n",
        "            else:\n",
        "                if board.is_attacked_by(ch.WHITE, i):\n",
        "                    white_attk += 0.01\n",
        "                if board.is_attacked_by(ch.BLACK, i):\n",
        "                    black_attk += 0.01\n",
        "\n",
        "        value += white_attk - black_attk\n",
        "\n",
        "        value += self.king_protection(board)\n",
        "\n",
        "        return value\n",
        "\n",
        "    def king_protection(self, board):\n",
        "        value = 0\n",
        "        kw_sqr = board.pieces(piece_type=ch.KING, color=ch.WHITE)\n",
        "        if ch.G1 in kw_sqr and not self.castled:\n",
        "            value += 0.25\n",
        "        elif ch.C1 in kw_sqr and not self.castled:\n",
        "            value += 0.15\n",
        "\n",
        "        kb_sqr = board.pieces(piece_type=ch.KING, color=ch.BLACK)\n",
        "        if ch.G8 in kb_sqr and not self.castled:\n",
        "            value -= 0.25\n",
        "        elif ch.C8 in kb_sqr and not self.castled:\n",
        "            value -= 0.15\n",
        "\n",
        "        return value\n",
        "\n",
        "    def count_pieces(self, board, piece, color):\n",
        "        pieces = len(board.pieces(piece_type=piece, color=color))\n",
        "\n",
        "        return pieces\n",
        "\n",
        "    def game_finished(self, board):\n",
        "        \"\"\"\n",
        "        Verifies is the game ended\n",
        "        :return:\n",
        "        \"\"\"\n",
        "\n",
        "        if board.is_checkmate():\n",
        "            return True\n",
        "\n",
        "        elif board.is_stalemate():\n",
        "            return True\n",
        "\n",
        "        elif board.is_insufficient_material():\n",
        "            return True\n",
        "\n",
        "        elif board.can_claim_threefold_repetition():\n",
        "            return True\n",
        "\n",
        "        return False\n",
        "\n",
        "    def game_finished_value(self, board):\n",
        "        \"\"\"\n",
        "        Verifies is the game ended\n",
        "        :return:\n",
        "        \"\"\"\n",
        "\n",
        "        if board.is_checkmate():\n",
        "            if board.outcome().winner == ch.WHITE:\n",
        "                return 200\n",
        "            else:\n",
        "                return -200\n",
        "\n",
        "        elif board.is_stalemate():\n",
        "            return 0\n",
        "\n",
        "        elif board.is_insufficient_material():\n",
        "            return 0\n",
        "\n",
        "        elif board.can_claim_threefold_repetition():\n",
        "            return 0\n",
        "\n",
        "        return 0\n"
      ],
      "metadata": {
        "id": "Pm94Ey_Ae43e"
      },
      "execution_count": null,
      "outputs": []
    },
    {
      "cell_type": "markdown",
      "source": [
        "# EngineVsEngine"
      ],
      "metadata": {
        "id": "wdWXFbajfZEm"
      }
    },
    {
      "cell_type": "code",
      "source": [
        "\n",
        "class EngineVsEngine:\n",
        "\n",
        "    def __init__(self, chess_engine_black, chess_engine_white):\n",
        "        self.chess_engine_black = chess_engine_black\n",
        "        self.chess_engine_white = chess_engine_white\n",
        "        self.board = None\n",
        "\n",
        "    def white_engine_choose_move(self):\n",
        "        \"\"\"\n",
        "        The white engine update the board\n",
        "        :return:\n",
        "        \"\"\"\n",
        "        move = self.chess_engine_white.choose_move(self.board, ch.WHITE)\n",
        "        if move:\n",
        "            self.board.push(move)\n",
        "\n",
        "        return\n",
        "\n",
        "    def black_engine_choose_move(self):\n",
        "        \"\"\"\n",
        "        The black engine update the board\n",
        "        :return:\n",
        "        \"\"\"\n",
        "        move = self.chess_engine_black.choose_move(self.board, ch.BLACK)\n",
        "        if move:\n",
        "            self.board.push(move)\n",
        "\n",
        "        return\n",
        "\n",
        "    def game_finished(self):\n",
        "        \"\"\"\n",
        "        Verifies is the game ended\n",
        "        :return:\n",
        "        \"\"\"\n",
        "        f = open(\"drive/MyDrive/ChessGame/Results.txt\", \"a\")\n",
        "\n",
        "        if self.board.is_checkmate():\n",
        "            if self.board.outcome().winner == ch.WHITE:\n",
        "                f.write(\"\\nCheckmate - white win\\n\")\n",
        "            else:\n",
        "                f.write(\"\\nCheckmate - black win\\n\")\n",
        "            f.write(str(self.board) + \"\\n\")\n",
        "            f.write(str(self.board.fen()) + \"\\n\")\n",
        "            f.close()\n",
        "            return True\n",
        "\n",
        "        elif self.board.is_stalemate():\n",
        "            f.write(\"\\nStalemate\\n\")\n",
        "            f.write(str(self.board) + \"\\n\")\n",
        "            f.write(str(self.board.fen()) + \"\\n\")\n",
        "            f.close()\n",
        "            return True\n",
        "\n",
        "        elif self.board.is_insufficient_material():\n",
        "            f.write(\"\\nDraw by insufficient material\\n\")\n",
        "            f.write(str(self.board) + \"\\n\")\n",
        "            f.write(str(self.board.fen()) + \"\\n\")\n",
        "            f.close()\n",
        "            return True\n",
        "\n",
        "        elif self.board.can_claim_threefold_repetition():\n",
        "            f.write(\"\\nDraw by repetition\\n\")\n",
        "            f.write(str(self.board) + \"\\n\")\n",
        "            f.write(str(self.board.fen()) + \"\\n\")\n",
        "            f.close()\n",
        "            return True\n",
        "          \n",
        "        \n",
        "\n",
        "        f.close()\n",
        "        return False\n",
        "\n",
        "    def play(self):\n",
        "\n",
        "        for i in range(4):\n",
        "            self.board = ch.Board()\n",
        "            playing = True\n",
        "            while playing:\n",
        "                if self.game_finished():\n",
        "                    playing = False\n",
        "                elif self.board.turn == ch.WHITE:\n",
        "                    self.white_engine_choose_move()\n",
        "                else:\n",
        "                    self.black_engine_choose_move()\n"
      ],
      "metadata": {
        "id": "EEEVQoo8fL6W"
      },
      "execution_count": null,
      "outputs": []
    },
    {
      "cell_type": "markdown",
      "source": [
        "# Game"
      ],
      "metadata": {
        "id": "jS9cgP2kfokY"
      }
    },
    {
      "cell_type": "code",
      "source": [
        "color = 'm'\n",
        "\n",
        "if color == 'm':\n",
        "    EngineVsEngine(DumbChessEngine(), MiniMaxClassical()).play()\n",
        "else:\n",
        "    EngineVsEngine(MiniMaxClassical(), DumbChessEngine()).play()"
      ],
      "metadata": {
        "colab": {
          "base_uri": "https://localhost:8080/"
        },
        "id": "ILf1rxpSfvxc",
        "outputId": "cac88c8c-8c62-4ce6-b354-aa90af1f08a3"
      },
      "execution_count": null,
      "outputs": [
        {
          "output_type": "stream",
          "name": "stdout",
          "text": [
            "Escolhido:  0.0 e2e3\n",
            "Escolhido:  0.20000000000000018 d1h5\n",
            "Escolhido:  0.3500000000000003 h5f5\n",
            "Escolhido:  0.40000000000000036 g1f3\n",
            "Escolhido:  0.4500000000000002 b1a3\n",
            "Escolhido:  0.44999999999999996 a3c4\n",
            "Escolhido:  1.5499999999999994 f5g5\n",
            "Escolhido:  1.1500000000000001 f1d3\n",
            "Escolhido:  1.4499999999999997 c4e5\n",
            "Escolhido:  1.4999999999999993 d3b5\n",
            "Escolhido:  1.4 a1a2\n",
            "Escolhido:  10.85 e5d7\n",
            "Escolhido:  14.2 d7b8\n",
            "Escolhido:  18.95 b5d7\n",
            "Escolhido:  0.0 e2e3\n",
            "Escolhido:  0.0 d1g4\n",
            "Escolhido:  0.30000000000000027 g1f3\n",
            "Escolhido:  0.4500000000000004 b2b4\n",
            "Escolhido:  0.4500000000000004 g4h4\n",
            "Escolhido:  -2.75 h4e7\n",
            "Escolhido:  -2.8499999999999996 g2f3\n",
            "Escolhido:  -1.9 c1b2\n",
            "Escolhido:  -1.8499999999999999 f1c4\n",
            "Escolhido:  -1.95 c4a6\n",
            "Escolhido:  1.1 a6c8\n",
            "Escolhido:  4.15 b2f6\n",
            "Escolhido:  7.45 c8b7\n",
            "Escolhido:  7.45 b7a8\n",
            "Escolhido:  12.600000000000001 f6h8\n",
            "Escolhido:  17.650000000000002 h1g1\n",
            "Escolhido:  17.6 g1g5\n",
            "Escolhido:  18.900000000000002 g5g8\n",
            "Escolhido:  18.85 g8f8\n",
            "Escolhido:  22.1 f8f5\n",
            "Escolhido:  22.95 f5h5\n",
            "Escolhido:  24.200000000000003 b1c3\n",
            "Escolhido:  24.200000000000003 e1c1\n",
            "Escolhido:  24.25 h5h6\n",
            "Escolhido:  24.3 h8d4\n",
            "Escolhido:  24.5 h6h8\n",
            "Escolhido:  24.65 d1g1\n",
            "Escolhido:  24.75 d2d3\n",
            "Escolhido:  24.75 d4c5\n",
            "Escolhido:  25.9 a8d5\n",
            "Escolhido:  26.0 h8f8\n",
            "Escolhido:  25.849999999999998 f3f4\n",
            "Escolhido:  0.0 e2e3\n",
            "Escolhido:  0.2500000000000002 d1g4\n",
            "Escolhido:  0.5500000000000005 g4g5\n",
            "Escolhido:  0.5000000000000004 g5h5\n",
            "Escolhido:  0.3500000000000003 h5a5\n",
            "Escolhido:  0.30000000000000027 a5b4\n",
            "Escolhido:  3.3000000000000003 b4b5\n",
            "Escolhido:  3.25 g1f3\n",
            "Escolhido:  3.3500000000000005 f3h4\n",
            "Escolhido:  3.25 f1d3\n",
            "Escolhido:  3.5 h4g6\n",
            "Escolhido:  3.4 b5c4\n",
            "Escolhido:  3.4499999999999997 g6h8\n",
            "Escolhido:  8.450000000000001 c4g8\n",
            "Escolhido:  11.450000000000001 h8g6\n",
            "Escolhido:  0.0 e2e3\n",
            "Escolhido:  0.2500000000000002 d1h5\n",
            "Escolhido:  0.4500000000000004 h5d5\n",
            "Escolhido:  0.5000000000000004 b2b4\n",
            "Escolhido:  0.4500000000000004 d5c5\n",
            "Escolhido:  0.40000000000000036 g1f3\n",
            "Escolhido:  0.3500000000000001 c5c7\n",
            "Escolhido:  9.4 c7c8\n",
            "Escolhido:  12.450000000000001 c8b7\n",
            "Escolhido:  13.5 b7a8\n",
            "Escolhido:  18.6 a8b8\n",
            "Escolhido:  21.85 b8e8\n",
            "Escolhido:  21.8 e8g6\n",
            "Escolhido:  22.95 g6e8\n",
            "Escolhido:  22.95 e8f8\n",
            "Escolhido:  26.15 f8g7\n",
            "Escolhido:  25.95 g7g8\n",
            "Escolhido:  29.05 g8h7\n",
            "Escolhido:  34.15 a2b3\n",
            "Escolhido:  35.45 f3h4\n",
            "Escolhido:  36.4 e3f4\n",
            "Escolhido:  37.4 h7e4\n",
            "Escolhido:  38.65 e4h7\n",
            "Escolhido:  38.7 h7d7\n",
            "Escolhido:  40.0 d7e7\n",
            "Escolhido:  40.2 c1b2\n",
            "Escolhido:  40.25 b1c3\n",
            "Escolhido:  40.3 c3d5\n",
            "Escolhido:  40.4 d5f6\n",
            "Escolhido:  40.449999999999996 h4g6\n"
>>>>>>> bd6f5d1dd26a9510e4b29750104833a24cd12afe
          ]
        }
      ],
      "source": [
        "Test\n"
      ]
    }
  ],
  "metadata": {
    "colab": {
      "authorship_tag": "ABX9TyPlJ8EUWB2ZCSsaIRPYR+Ye",
      "include_colab_link": true,
      "name": "ChessGameML",
      "provenance": []
    },
    "kernelspec": {
      "display_name": "Python 3.10.4 64-bit",
      "language": "python",
      "name": "python3"
    },
    "language_info": {
      "name": "python",
      "version": "3.10.4"
    },
    "vscode": {
      "interpreter": {
        "hash": "704d096015fd6e6dcb2f71f9f311037ce641ad4388b3d636ab650e00c1b00633"
      }
    }
  },
  "nbformat": 4,
  "nbformat_minor": 0
}
